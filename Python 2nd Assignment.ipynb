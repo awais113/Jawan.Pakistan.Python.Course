{
 "cells": [
  {
   "cell_type": "code",
   "execution_count": 33,
   "id": "dfa92b6e",
   "metadata": {},
   "outputs": [
    {
     "name": "stdout",
     "output_type": "stream",
     "text": [
      "Total Marks Obtained =  183 out of 300\n",
      "Percentage =  61.0\n",
      "Grade B\n"
     ]
    }
   ],
   "source": [
    "eng_marks = 61\n",
    "math_marks = 61\n",
    "isl_marks = 61\n",
    "total_marks = 300\n",
    "\n",
    "marks_obtained = eng_marks + math_marks + isl_marks\n",
    "\n",
    "percentage = marks_obtained / total_marks * 100\n",
    "\n",
    "print(\"Total Marks Obtained = \", marks_obtained, \"out of 300\")\n",
    "print(\"Percentage = \", percentage)\n",
    "\n",
    "if (percentage > 80 and percentage <100):\n",
    "    print(\"Grade A+\");\n",
    "elif(percentage > 70 and percentage <80):\n",
    "    print(\"Grade A\");\n",
    "elif(percentage > 60 and percentage <70):\n",
    "    print(\"Grade B\");\n",
    "elif(percentage > 50 and percentage <60):\n",
    "    print(\"Grade C\");\n",
    "elif(percentage > 40 and percentage <50):\n",
    "    print(\"Grade D\");\n",
    "else:\n",
    "    print(\"You are FAILED\")"
   ]
  },
  {
   "cell_type": "code",
   "execution_count": null,
   "id": "e6372652",
   "metadata": {},
   "outputs": [],
   "source": [
    "\n"
   ]
  },
  {
   "cell_type": "code",
   "execution_count": null,
   "id": "feb8aa64",
   "metadata": {},
   "outputs": [],
   "source": []
  },
  {
   "cell_type": "code",
   "execution_count": null,
   "id": "f4469bd4",
   "metadata": {},
   "outputs": [],
   "source": []
  },
  {
   "cell_type": "code",
   "execution_count": null,
   "id": "938fb211",
   "metadata": {},
   "outputs": [],
   "source": []
  },
  {
   "cell_type": "code",
   "execution_count": null,
   "id": "80fde067",
   "metadata": {},
   "outputs": [],
   "source": []
  },
  {
   "cell_type": "code",
   "execution_count": null,
   "id": "8613d37b",
   "metadata": {},
   "outputs": [],
   "source": []
  }
 ],
 "metadata": {
  "kernelspec": {
   "display_name": "Python 3",
   "language": "python",
   "name": "python3"
  },
  "language_info": {
   "codemirror_mode": {
    "name": "ipython",
    "version": 3
   },
   "file_extension": ".py",
   "mimetype": "text/x-python",
   "name": "python",
   "nbconvert_exporter": "python",
   "pygments_lexer": "ipython3",
   "version": "3.8.8"
  }
 },
 "nbformat": 4,
 "nbformat_minor": 5
}

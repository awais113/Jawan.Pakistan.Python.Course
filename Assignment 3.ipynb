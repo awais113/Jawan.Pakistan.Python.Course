{
 "cells": [
  {
   "cell_type": "code",
   "execution_count": 5,
   "id": "99d651ea",
   "metadata": {},
   "outputs": [
    {
     "name": "stdout",
     "output_type": "stream",
     "text": [
      "Twinkle, twinkle, little star, \n",
      "\tHow I wonder what you are! \n",
      "\t\tUp above the world so high, \n",
      "\t\tLike a diamond in the sky. \n",
      "Twinkle, twinkle, little star, \n",
      "\tHow I wonder what you are\n"
     ]
    }
   ],
   "source": [
    "#1. Write a Python program to print the following string in a specific format\n",
    "\n",
    "print(\"Twinkle, twinkle, little star, \\n\\tHow I wonder what you are! \\n\\t\\tUp above the world so high, \\n\\t\\tLike a diamond in the sky. \\nTwinkle, twinkle, little star, \\n\\tHow I wonder what you are\")"
   ]
  },
  {
   "cell_type": "code",
   "execution_count": 52,
   "id": "2239d749",
   "metadata": {},
   "outputs": [
    {
     "name": "stdout",
     "output_type": "stream",
     "text": [
      "Python version 3.8.8 (default, Apr 13 2021, 15:08:03) [MSC v.1916 64 bit (AMD64)]\n"
     ]
    }
   ],
   "source": [
    "#2. Write a Python program to get the Python version you are using\n",
    "\n",
    "import sys\n",
    "print(\"Python version\", sys.version)"
   ]
  },
  {
   "cell_type": "code",
   "execution_count": 2,
   "id": "53c7b330",
   "metadata": {},
   "outputs": [
    {
     "name": "stdout",
     "output_type": "stream",
     "text": [
      "Current date and time :  2021-10-23 15:20:32\n"
     ]
    }
   ],
   "source": [
    "#3. Write a Python program to display the current date and time.\n",
    "\n",
    "import datetime\n",
    "now = datetime.datetime.now()\n",
    "print (\"Current date and time : \", now.strftime(\"%Y-%m-%d %H:%M:%S\"))"
   ]
  },
  {
   "cell_type": "code",
   "execution_count": 4,
   "id": "4a388f1f",
   "metadata": {},
   "outputs": [
    {
     "name": "stdout",
     "output_type": "stream",
     "text": [
      "Input the radius of the circle : 30\n",
      "The area of the circle with radius 30.0 is: 2827.4333882308138\n"
     ]
    }
   ],
   "source": [
    "#4. Write a Python program which accepts the radius of a circle from the user and compute the area.\n",
    "\n",
    "from math import pi\n",
    "r = float(input (\"Input the radius of the circle : \"))\n",
    "print (\"The area of the circle with radius \" + str(r) + \" is: \" + str(pi * r**2))"
   ]
  },
  {
   "cell_type": "code",
   "execution_count": 56,
   "id": "76df3040",
   "metadata": {},
   "outputs": [
    {
     "name": "stdout",
     "output_type": "stream",
     "text": [
      "Input your First Name : M.\n",
      "Input your Last Name : Mughal\n",
      "Assalam-u-Alaikum  Mughal M.\n"
     ]
    }
   ],
   "source": [
    "#5. Write a Python program which accepts the user's first and last name and print them in reverse order with a space between them.\n",
    "\n",
    "fname = input(\"Input your First Name : \")\n",
    "lname = input(\"Input your Last Name : \")\n",
    "print (\"Assalam-u-Alaikum  \" + lname + \" \" + fname)\n"
   ]
  },
  {
   "cell_type": "code",
   "execution_count": 28,
   "id": "0d1966bf",
   "metadata": {},
   "outputs": [
    {
     "name": "stdout",
     "output_type": "stream",
     "text": [
      "Enter 1st number: 25\n",
      "Enter 2nd number: 26\n",
      "Addition of Two Numbers is : 51\n"
     ]
    }
   ],
   "source": [
    "#6. Write a python program which takes two inputs from user and print them addition\n",
    "\n",
    "nbr1 = int(input(\"Enter 1st number: \"))\n",
    "nbr2 = int(input(\"Enter 2nd number: \"))\n",
    "print (\"Addition of Two Numbers is :\",  nbr1 + nbr2)"
   ]
  },
  {
   "cell_type": "code",
   "execution_count": 57,
   "id": "e91d26ee",
   "metadata": {},
   "outputs": [
    {
     "name": "stdout",
     "output_type": "stream",
     "text": [
      "Marks Obtained in English: 58\n",
      "Marks Obtained in Mathematics: 68\n",
      "Marks Obtained in Islamiyat: 46\n",
      "Marks Obtained in Urdu: 74\n",
      "Marks Obtained in Science: 80\n",
      "Total Marks Obtained =  326 out of 500\n",
      "Percentage =  65.2\n",
      "Grade B\n"
     ]
    }
   ],
   "source": [
    "#7. Write a program which takes 5 inputs from user for different subject’s marks, total it and generate mark sheet using grades ?\n",
    "\n",
    "eng_marks = int(input(\"Marks Obtained in English: \"))\n",
    "math_marks = int(input(\"Marks Obtained in Mathematics: \"))\n",
    "isl_marks = int(input(\"Marks Obtained in Islamiyat: \"))\n",
    "urdu_marks = int(input(\"Marks Obtained in Urdu: \"))\n",
    "science_marks = int(input(\"Marks Obtained in Science: \"))\n",
    "total_marks = 500\n",
    "\n",
    "marks_obtained = eng_marks + math_marks + isl_marks + urdu_marks + science_marks\n",
    "\n",
    "percentage = marks_obtained / total_marks * 100\n",
    "\n",
    "print(\"Total Marks Obtained = \", marks_obtained, \"out of 500\")\n",
    "print(\"Percentage = \", percentage)\n",
    "\n",
    "if (percentage > 80 and percentage <100):\n",
    "    print(\"Grade A+\");\n",
    "elif(percentage > 70 and percentage <80):\n",
    "    print(\"Grade A\");\n",
    "elif(percentage > 60 and percentage <70):\n",
    "    print(\"Grade B\");\n",
    "elif(percentage > 50 and percentage <60):\n",
    "    print(\"Grade C\");\n",
    "elif(percentage > 40 and percentage <50):\n",
    "    print(\"Grade D\");\n",
    "else:\n",
    "    print(\"You are FAILED\")"
   ]
  },
  {
   "cell_type": "code",
   "execution_count": 64,
   "id": "1046c431",
   "metadata": {},
   "outputs": [
    {
     "name": "stdout",
     "output_type": "stream",
     "text": [
      "Enter a number: 22\n",
      "This is an even number.\n"
     ]
    }
   ],
   "source": [
    "#8. Write a program which take input from user and identify that the given number is even or odd?\n",
    "\n",
    "num1 = int(input(\"Enter a number: \"))\n",
    "num2 = num1 % 2\n",
    "if num2 > 0:\n",
    "    print(\"This is an odd number.\")\n",
    "else:\n",
    "    print(\"This is an even number.\")"
   ]
  },
  {
   "cell_type": "code",
   "execution_count": 65,
   "id": "025a497d",
   "metadata": {},
   "outputs": [
    {
     "name": "stdout",
     "output_type": "stream",
     "text": [
      "Number of items in the list =  7\n"
     ]
    }
   ],
   "source": [
    "#9. Write a program which print the length of the list?\n",
    "\n",
    "mylist = [\"Awais\", \"Jawan Pakistan\", \"Mughal\", 1, 2, 3, 4]\n",
    "print (\"Number of items in the list = \", len(mylist))"
   ]
  },
  {
   "cell_type": "code",
   "execution_count": 67,
   "id": "c5917788",
   "metadata": {},
   "outputs": [
    {
     "data": {
      "text/plain": [
       "85"
      ]
     },
     "execution_count": 67,
     "metadata": {},
     "output_type": "execute_result"
    }
   ],
   "source": [
    "#10. Write a Python program to sum all the numeric items in a list?\n",
    "\n",
    "sumlist = [1, 2, 3, 4, 6, 10, 59]\n",
    "sum(sumlist)"
   ]
  },
  {
   "cell_type": "code",
   "execution_count": 68,
   "id": "28532dde",
   "metadata": {},
   "outputs": [
    {
     "name": "stdout",
     "output_type": "stream",
     "text": [
      "Largest Number of the list is : 100\n"
     ]
    }
   ],
   "source": [
    "#11. Write a Python program to get the largest number from a numeric list.\n",
    "\n",
    "mylist2 = [1, 2, 3, 4, 60, 10,100]\n",
    "print(\"Largest Number of the list is :\", max(mylist2))"
   ]
  },
  {
   "cell_type": "code",
   "execution_count": 69,
   "id": "5f860de7",
   "metadata": {},
   "outputs": [
    {
     "name": "stdout",
     "output_type": "stream",
     "text": [
      "1\n",
      "1\n",
      "2\n",
      "3\n"
     ]
    }
   ],
   "source": [
    "#12. Write a program that prints out all the elements of the list that are less than 5.\n",
    "\n",
    "alist = [1, 1, 2, 3, 5, 8, 13, 21, 34, 55, 89]\n",
    "for nbr in alist:\n",
    "    if nbr < 5:\n",
    "        print(nbr)"
   ]
  },
  {
   "cell_type": "code",
   "execution_count": null,
   "id": "7b0fe577",
   "metadata": {},
   "outputs": [],
   "source": []
  },
  {
   "cell_type": "code",
   "execution_count": null,
   "id": "15fbc85c",
   "metadata": {},
   "outputs": [],
   "source": []
  },
  {
   "cell_type": "code",
   "execution_count": null,
   "id": "2f028b2b",
   "metadata": {},
   "outputs": [],
   "source": []
  }
 ],
 "metadata": {
  "kernelspec": {
   "display_name": "Python 3",
   "language": "python",
   "name": "python3"
  },
  "language_info": {
   "codemirror_mode": {
    "name": "ipython",
    "version": 3
   },
   "file_extension": ".py",
   "mimetype": "text/x-python",
   "name": "python",
   "nbconvert_exporter": "python",
   "pygments_lexer": "ipython3",
   "version": "3.8.8"
  }
 },
 "nbformat": 4,
 "nbformat_minor": 5
}
